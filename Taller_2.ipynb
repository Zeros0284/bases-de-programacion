{
  "nbformat": 4,
  "nbformat_minor": 0,
  "metadata": {
    "colab": {
      "provenance": [],
      "authorship_tag": "ABX9TyPESgr9paLhgU3irLNALSkw",
      "include_colab_link": true
    },
    "kernelspec": {
      "name": "python3",
      "display_name": "Python 3"
    },
    "language_info": {
      "name": "python"
    }
  },
  "cells": [
    {
      "cell_type": "markdown",
      "metadata": {
        "id": "view-in-github",
        "colab_type": "text"
      },
      "source": [
        "<a href=\"https://colab.research.google.com/github/Zeros0284/bases-de-programacion/blob/main/Taller_2.ipynb\" target=\"_parent\"><img src=\"https://colab.research.google.com/assets/colab-badge.svg\" alt=\"Open In Colab\"/></a>"
      ]
    },
    {
      "cell_type": "code",
      "execution_count": null,
      "metadata": {
        "id": "1OpFI8GEginU"
      },
      "outputs": [],
      "source": []
    },
    {
      "cell_type": "markdown",
      "source": [
        "Taller 2:\n",
        "\n",
        "Dando continuidad con la primera entrega del proyecto, en esta oportunidad el estudiante debe realizar las siguientes validaciones utilizando la sentencia condicional IF.\n",
        "\n",
        "Si el empleado es mayor de 55 años disfrutará de un bono de prepensión correspondiente al 5% de su sueldo básico.\n",
        "\n",
        "Si el empleado es casado y tiene hijos se le otorgará un paseo cada diciembre\n",
        "\n",
        "Si el sueldo básico está entre 1000000 y 1500000 tendrá una comisión del 2% sobre el valor del sueldo; Si el sueldo básico está entre 1500001 y 2000000 tendrá una comisión del 5% sobre el valor del sueldo; para todos los demás casos no habrá comisión.\n",
        "\n",
        "Si el empleado trabajó más de 20 días al mes y su sueldo es menor a 1000000 tendrá derecho a un bono de alimentación."
      ],
      "metadata": {
        "id": "Bwz8bgFNgqy_"
      }
    },
    {
      "cell_type": "code",
      "source": [
        "\n",
        "Cedula = int(input(\"Ingrese su numero de cedula: \" ))\n",
        "Nombres = input(\"Nombres completos: \")\n",
        "Apellidos = input(\"Apellidos: \")\n",
        "Direccion = input(\"Direccion de residencia: \")\n",
        "Telefono = input(\"Telefono: \")\n",
        "Edad = int(input(\"Edad: \"))\n",
        "Estado_civil = input(\"estado civil:  \")\n",
        "Numero_de_hijos = int(input(\"numero de hijos: \"))\n",
        "Estatura = (input(\"Estatura en centimetros: \"))\n",
        "Fecha_contratacion = input(\"ingrese fecha de ingreso (año/mes/dia): \")\n",
        "Salario = int(input(\"ingrese salario: \"))\n",
        "dias_trabajados = int(input(\"dias trabajados:  \"))\n",
        "\n",
        "Bono = Salario * 0.05\n",
        "\n",
        "bono_alimentacion = 0\n",
        "\n",
        "if Edad > 55:\n",
        "  Bono \n",
        "  Salario_a_recibir = Salario + Bono + comision1 + comision2\n",
        "else:\n",
        "  Bono = 0\n",
        "  Salario_a_recibir = Salario + comision1 + comision2\n",
        "\n",
        "if Estado_civil == \"casado\" and Numero_de_hijos > 0:\n",
        " Paseo = \"paseo cada diciembre\"\n",
        "else:\n",
        "  Paseo = \"\" \n",
        "\n",
        "if Salario > 1000000 and Salario < 1500000:\n",
        " comision = salario * 0.02 \n",
        "\n",
        "elif Salario > 1500001 and Salario < 2000000:\n",
        " comsion = salario * 0.05 \n",
        "\n",
        "else:\n",
        " comision = 0\n",
        "\n",
        "if dias_trabajados > 20 and Salario < 1000000:\n",
        "  bono_alimentacion \n",
        "    \n",
        "\n",
        "print(f\"\\nEl numero de cedula es:  {Cedula}\")\n",
        "print(f\"\\nLos nombres son:  {Nombres}\")\n",
        "print (f\"\\nLos Apellidos son:  {Apellidos}\")\n",
        "print(f\"\\nLa direccion es:  {Direccion}\")\n",
        "print(f\"\\nEl numero de telefono es:  {Telefono}\")\n",
        "print(f\"\\nLa edad es:  {Edad}\")\n",
        "print(f\"\\nEl estado civil es:  {Estado_civil}\")\n",
        "print(f\"\\nEl numero de hijos es:  {Numero_de_hijos}\")\n",
        "print(f\"\\n{Paseo}\")\n",
        "print(f\"\\nla estatura en cm es:  {Estatura}\")\n",
        "print(f\"\\nLa fecha de contratacion es:  {Fecha_contratacion}\")\n",
        "print(f\"\\nEl Salario basico es$:  {Salario:,.0f}\")\n",
        "print(f\"\\nel valor del bono es ${Bono:,.0f}\")\n",
        "print(f\"\\nel valor de la comision es $ {comision:,.0f}\")\n",
        "print(f\"\\nEl valor del bono de alimentación es: ${bono_alimentacion:,.0f}\")\n",
        "print(f\"\\nel valor total a recibir es ${Salario_a_recibir:,.0f}\")\n",
        "print(f\"\\nLos días trabajados son:  {dias_trabajados}\")"
      ],
      "metadata": {
        "id": "X5GTFZdGgr49"
      },
      "execution_count": null,
      "outputs": []
    }
  ]
}