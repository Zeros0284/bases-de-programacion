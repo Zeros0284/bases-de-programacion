{
  "nbformat": 4,
  "nbformat_minor": 0,
  "metadata": {
    "colab": {
      "provenance": [],
      "authorship_tag": "ABX9TyNO7n3qjV31db2rwPxk48Yn",
      "include_colab_link": true
    },
    "kernelspec": {
      "name": "python3",
      "display_name": "Python 3"
    },
    "language_info": {
      "name": "python"
    }
  },
  "cells": [
    {
      "cell_type": "markdown",
      "metadata": {
        "id": "view-in-github",
        "colab_type": "text"
      },
      "source": [
        "<a href=\"https://colab.research.google.com/github/Zeros0284/bases-de-programacion/blob/main/Aplicacion_clase_5_a_taller_1.ipynb\" target=\"_parent\"><img src=\"https://colab.research.google.com/assets/colab-badge.svg\" alt=\"Open In Colab\"/></a>"
      ]
    },
    {
      "cell_type": "code",
      "execution_count": 23,
      "metadata": {
        "colab": {
          "base_uri": "https://localhost:8080/"
        },
        "id": "ei1lrjexjAym",
        "outputId": "933b5f60-ec52-42f1-e988-aba8a7ffd78b"
      },
      "outputs": [
        {
          "output_type": "stream",
          "name": "stdout",
          "text": [
            "Ingrese su numero de cedula: 80824752\n",
            "Nombres: andres\n",
            "Apellidos: bere\n",
            "Direccion de residencia: cll 100 98 76\n",
            "Telefono: 900 666 55 44\n",
            "Edad: 45\n",
            "Estado civil: casado\n",
            "numero de hijos: 1\n",
            "Estatura en centimetros: 167\n",
            "ingrese fecha de ingreso (año/mes/dia): 2017/03/15\n",
            "ingrese salario: 1600000\n",
            "dias trabajados:45\n",
            "¿Desea ingresar otra hoja de vida? (si/no)  no\n",
            "80824752\n",
            "andres\n",
            "bere\n",
            "cll 100 98 76\n",
            "900 666 55 44\n",
            "45\n",
            "casado\n",
            "1\n",
            "167\n",
            "2017/03/15\n",
            "1600000\n",
            "45\n"
          ]
        }
      ],
      "source": [
        "#CLASE 5 APLICACION A TALLER 1\n",
        "\n",
        "\n",
        "#No de Identificación, Nombres, Apellidos, Dirección, Teléfono, Edad, Estado Civil, Número de hijos, Estatura en centímetros, fecha de contratación (Día/mes/año), Sueldo básico, Días Laborados.\n",
        "\n",
        "[ ]\n",
        "def hoja_vida():\n",
        "\n",
        " resp = \"si\"\n",
        " while resp == \"si\":\n",
        "\n",
        "  Cedula = int(input(\"Ingrese su numero de cedula: \" ))\n",
        "  Nombres = input(\"Nombres: \")\n",
        "  Apellidos = input(\"Apellidos: \")\n",
        "  Direccion = input(\"Direccion de residencia: \")\n",
        "  Telefono = input (\"Telefono: \")\n",
        "  Edad = int(input(\"Edad: \"))\n",
        "  Estado_civil = input(\"Estado civil: \")\n",
        "  Numero_de_hijos = int(input(\"numero de hijos: \"))\n",
        "  Estatura = (input(\"Estatura en centimetros: \"))\n",
        "  Fecha_contratacion = input(\"ingrese fecha de ingreso (año/mes/dia): \")\n",
        "  Salario = input(\"ingrese salario: \")\n",
        "  dias_trabajados = int(input(\"dias trabajados:\"))\n",
        "  resp = input(\"¿Desea ingresar otra hoja de vida? (si/no)  \")\n",
        "\n",
        "  print(Cedula)\n",
        "  print(Nombres)\n",
        "  print(Apellidos)\n",
        "  print(Direccion)\n",
        "  print(Telefono)\n",
        "  print(Edad)\n",
        "  print(Estado_civil)\n",
        "  print(Numero_de_hijos)\n",
        "  print(Estatura)\n",
        "  print(Fecha_contratacion)\n",
        "  \n",
        "  print(Salario)\n",
        "  print(dias_trabajados)\n",
        "\n",
        "  \n",
        "hoja_vida()  \n",
        "\n",
        "\n",
        "\n",
        "\n",
        "\n",
        "\n"
      ]
    }
  ]
}