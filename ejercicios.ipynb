{
  "nbformat": 4,
  "nbformat_minor": 0,
  "metadata": {
    "colab": {
      "provenance": [],
      "authorship_tag": "ABX9TyOMT6mX63w/W9xdeSF24l6Y",
      "include_colab_link": true
    },
    "kernelspec": {
      "name": "python3",
      "display_name": "Python 3"
    },
    "language_info": {
      "name": "python"
    }
  },
  "cells": [
    {
      "cell_type": "markdown",
      "metadata": {
        "id": "view-in-github",
        "colab_type": "text"
      },
      "source": [
        "<a href=\"https://colab.research.google.com/github/Zeros0284/bases-de-programacion/blob/main/ejercicios.ipynb\" target=\"_parent\"><img src=\"https://colab.research.google.com/assets/colab-badge.svg\" alt=\"Open In Colab\"/></a>"
      ]
    },
    {
      "cell_type": "code",
      "execution_count": null,
      "metadata": {
        "id": "Vderh4rJRZvL"
      },
      "outputs": [],
      "source": []
    },
    {
      "cell_type": "markdown",
      "source": [
        "Ejercicios propuestos\n",
        "1\n"
      ],
      "metadata": {
        "id": "AMWHnhsFRaRh"
      }
    },
    {
      "cell_type": "code",
      "source": [
        "#Un vendedor recibe un sueldo base más un 10% extra por comisión de sus ventas,\n",
        " #el vendedor desea saber cuánto dinero obtendrá por concepto de comisiones por \n",
        " #las tres ventas que realiza en el mes y el total que recibirá en el mes tomando en cuenta su sueldo base y comisiones.\n",
        "\n",
        "Salario =float(input(\"cual es su Salario : $\"))\n",
        "\n",
        "venta1 = float(input(\"primer venta : $\"))\n",
        "venta2 = float(input(\"segunda venta : $\"))\n",
        "venta3 = float(input(\"tercera venta : $\"))\n",
        "\n",
        "comision = (venta1 + venta2 + venta3) * 0.10\n",
        "\n",
        "res = Salario + comision\n",
        "\n",
        "print(f\"\\nEl valor de la comision es ${comision:,.0f}\")\n",
        "print(f\"\\nEl valor total a recibir es ${res:,.0f}\")"
      ],
      "metadata": {
        "colab": {
          "base_uri": "https://localhost:8080/"
        },
        "id": "SLD94fiTRd4P",
        "outputId": "c0b3d7df-6676-47d2-a79b-768804a98e9a"
      },
      "execution_count": null,
      "outputs": [
        {
          "output_type": "stream",
          "name": "stdout",
          "text": [
            "cual es su Salario : $5000\n",
            "primer venta : $1000\n",
            "segunda venta : $2000\n",
            "tercera venta : $5000\n",
            "\n",
            "El valor de la comision es $800\n",
            "\n",
            "El valor total a recibir es $5,800\n"
          ]
        }
      ]
    },
    {
      "cell_type": "markdown",
      "source": [
        "Punto 2"
      ],
      "metadata": {
        "id": "p6qGzEb4Upwp"
      }
    },
    {
      "cell_type": "code",
      "source": [
        "#Una tienda ofrece un descuento del 15% sobre el total\n",
        "#de la compra y un cliente desea saber cuánto deberá\n",
        "#pagar finalmente por su compra."
      ],
      "metadata": {
        "id": "1pL-D0YwU4zP"
      },
      "execution_count": null,
      "outputs": []
    },
    {
      "cell_type": "code",
      "source": [
        "compra = float(input(\"cual es valor de la compra: $\"))\n",
        "\n",
        "descu = compra * 0.15\n",
        "\n",
        "result = compra - descu\n",
        "\n",
        "print(f\"\\nEl valor de la compra es ${compra:,.0f}\")\n",
        "print(f\"\\nEl valor del descuento es ${descu:,.0f}\")\n",
        "\n",
        "print(f\"\\nEl valor total a pagar es ${result:,.0f}\")\n",
        "\n",
        "\n"
      ],
      "metadata": {
        "colab": {
          "base_uri": "https://localhost:8080/"
        },
        "id": "uYhkyZcUUxXt",
        "outputId": "391fb05e-cd28-4002-f94b-ab050978d3ca"
      },
      "execution_count": null,
      "outputs": [
        {
          "output_type": "stream",
          "name": "stdout",
          "text": [
            "cual es valor de la compra: $600000\n",
            "\n",
            "El valor de la compra es $600,000\n",
            "\n",
            "El valor del descuento es $90,000\n",
            "\n",
            "El valor total a pagar es $510,000\n"
          ]
        }
      ]
    },
    {
      "cell_type": "markdown",
      "source": [
        "Punto 3"
      ],
      "metadata": {
        "id": "nFeHrwGfXFFo"
      }
    },
    {
      "cell_type": "code",
      "source": [
        "#Un alumno desea saber cuál será su calificación final en\n",
        "#la materia de Algoritmos. Dicha calificación se compone\n",
        "#de tres exámenes parciales.\n",
        "\n",
        "Nota1 = float(input(\"Nota1 : \"))\n",
        "Nota2 = float(input(\"Nota2 : \"))\n",
        "Nota3 = float(input(\"Nota3 : \"))\n",
        "\n",
        "Nota_final = (Nota1 * 0.30) + (Nota2 * 0.30) + (Nota3 * 0.40)\n",
        "\n",
        "print(f\"\\nLa nota final es {Nota_final}\")\n",
        "\n",
        "\n"
      ],
      "metadata": {
        "colab": {
          "base_uri": "https://localhost:8080/"
        },
        "id": "tWGaVj4FXGcg",
        "outputId": "cf83bb89-67ed-4f54-b49a-80051f6f5d86"
      },
      "execution_count": null,
      "outputs": [
        {
          "output_type": "stream",
          "name": "stdout",
          "text": [
            "Nota1 : 3.5\n",
            "Nota2 : 3.5\n",
            "Nota3 : 1\n",
            "\n",
            "La nota final es 2.5\n"
          ]
        }
      ]
    },
    {
      "cell_type": "markdown",
      "source": [
        "Punto 4"
      ],
      "metadata": {
        "id": "F_ndw3mJZN_0"
      }
    },
    {
      "cell_type": "code",
      "source": [
        "#Un maestro desea saber qué porcentaje de hombres y que\n",
        "#porcentaje de mujeres hay en un grupo de estudiantes.\n",
        "\n",
        "Mujeres = int(input(\"Mujeres: \"))\n",
        "Hombres = int(input(\"Hombres: \"))\n",
        "\n",
        "Valor_pm = (Mujeres / (Mujeres + Hombres)) *100\n",
        "Valor_ph = (100 - Valor_pm)\n",
        "\n",
        "print(f\"\\n el porcentaje de mujeres es {Valor_pm:,.2f} %  y el porcentaje de hombres {Valor_ph:,.2f} % en el aula de clases\")\n",
        "\n",
        "\n"
      ],
      "metadata": {
        "colab": {
          "base_uri": "https://localhost:8080/"
        },
        "id": "7nKcqhYrZPMy",
        "outputId": "31d760b5-e80f-48ce-f9d2-6d5ee0a829ba"
      },
      "execution_count": null,
      "outputs": [
        {
          "output_type": "stream",
          "name": "stdout",
          "text": [
            "Mujeres: 60\n",
            "Hombres: 30\n",
            "\n",
            " el porcentaje de mujeres es 66.67 %  y el porcentaje de hombres 33.33 % en el aula de clases\n"
          ]
        }
      ]
    }
  ]
}