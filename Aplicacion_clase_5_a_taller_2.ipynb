{
  "nbformat": 4,
  "nbformat_minor": 0,
  "metadata": {
    "colab": {
      "provenance": [],
      "authorship_tag": "ABX9TyNc/QLLmdI7Eq3IoLfvhZ9D",
      "include_colab_link": true
    },
    "kernelspec": {
      "name": "python3",
      "display_name": "Python 3"
    },
    "language_info": {
      "name": "python"
    }
  },
  "cells": [
    {
      "cell_type": "markdown",
      "metadata": {
        "id": "view-in-github",
        "colab_type": "text"
      },
      "source": [
        "<a href=\"https://colab.research.google.com/github/Zeros0284/bases-de-programacion/blob/main/Aplicacion_clase_5_a_taller_2.ipynb\" target=\"_parent\"><img src=\"https://colab.research.google.com/assets/colab-badge.svg\" alt=\"Open In Colab\"/></a>"
      ]
    },
    {
      "cell_type": "code",
      "execution_count": null,
      "metadata": {
        "id": "a7hEJ1w8okjg"
      },
      "outputs": [],
      "source": []
    },
    {
      "cell_type": "markdown",
      "source": [
        "Clase 5 aplicada a taller 2"
      ],
      "metadata": {
        "id": "uqUAEHlTonOy"
      }
    },
    {
      "cell_type": "code",
      "source": [
        "def consulta_salario():\n",
        "\n",
        " resp = \"si\"\n",
        " while resp == \"si\":\n",
        "\n",
        "  Cedula = int(input(\"Ingrese su numero de cedula: \" ))\n",
        "  Nombres = input(\"Nombres completos: \")\n",
        "  Apellidos = input(\"Apellidos: \")\n",
        "  Direccion = input(\"Direccion de residencia: \")\n",
        "  Telefono = input(\"Telefono: \")\n",
        "  Edad = int(input(\"Edad: \"))\n",
        "  Estado_civil = input(\"estado civil:  \")\n",
        "  Numero_de_hijos = int(input(\"numero de hijos: \"))\n",
        "  Estatura = (input(\"Estatura en centimetros: \"))\n",
        "  Fecha_contratacion = input(\"ingrese fecha de ingreso (año/mes/dia): \")\n",
        "  Salario = int(input(\"ingrese salario: \"))\n",
        "  dias_trabajados = int(input(\"dias trabajados:  \"))\n",
        "\n",
        "  Bono = Salario * 0.05\n",
        "\n",
        "  bono_alimentacion = 0\n",
        "\n",
        "\n",
        "\n",
        "  if Salario > 1000000 and Salario < 1500000:\n",
        "   comision = salario * 0.02 \n",
        "\n",
        "  elif Salario > 1500001 and Salario < 2000000:\n",
        "   comision = Salario * 0.05 \n",
        "\n",
        "  else:\n",
        "   comision = 0\n",
        "\n",
        "  if dias_trabajados > 20 and Salario < 1000000:\n",
        "    bono_alimentacion \n",
        "  if Edad > 55:\n",
        "   Bono \n",
        "   Salario_a_recibir = Salario + Bono + comision\n",
        "  \n",
        "  else:\n",
        "   Bono = 0\n",
        "   Salario_a_recibir = Salario + comision\n",
        "\n",
        "  if Estado_civil == \"casado\" and Numero_de_hijos > 0:\n",
        "   Paseo = \"paseo cada diciembre\"\n",
        "  else:\n",
        "    Paseo = \"\"\n",
        "\n",
        "  resp = input(\"¿Desea ingresar otra consulta? (si/no)  \") \n",
        "  print(f\"\\nEl numero de cedula es:  {Cedula}\")\n",
        "  print(f\"\\nLos nombres son:  {Nombres}\")\n",
        "  print (f\"\\nLos Apellidos son:  {Apellidos}\")\n",
        "  print(f\"\\nLa direccion es:  {Direccion}\")\n",
        "  print(f\"\\nEl numero de telefono es:  {Telefono}\")\n",
        "  print(f\"\\nLa edad es:  {Edad}\")\n",
        "  print(f\"\\nEl estado civil es:  {Estado_civil}\")\n",
        "  print(f\"\\nEl numero de hijos es:  {Numero_de_hijos}\")\n",
        "  print(f\"\\n{Paseo}\")\n",
        "  print(f\"\\nla estatura en cm es:  {Estatura}\")\n",
        "  print(f\"\\nLa fecha de contratacion es:  {Fecha_contratacion}\")\n",
        "  print(f\"\\nEl Salario basico es$:  {Salario:,.0f}\")\n",
        "  print(f\"\\nel valor del bono es ${Bono:,.0f}\")\n",
        "  print(f\"\\nel valor de la comision es $ {comision:,.0f}\")\n",
        "  print(f\"\\nEl valor del bono de alimentación es: ${bono_alimentacion:,.0f}\")\n",
        "  print(f\"\\nel valor total a recibir es ${Salario_a_recibir:,.0f}\")\n",
        "  print(f\"\\nLos días trabajados son:  {dias_trabajados}\")   \n",
        "\n",
        "\n",
        "  \n",
        "\n",
        "consulta_salario()"
      ],
      "metadata": {
        "colab": {
          "base_uri": "https://localhost:8080/"
        },
        "id": "ThofmWjMolw7",
        "outputId": "b04c83d7-3652-4740-d0cb-eda97b55159e"
      },
      "execution_count": 15,
      "outputs": [
        {
          "output_type": "stream",
          "name": "stdout",
          "text": [
            "Ingrese su numero de cedula: 80824566\n",
            "Nombres completos: andres\n",
            "Apellidos: peres\n",
            "Direccion de residencia: call 100 56 55\n",
            "Telefono: 900 455 66 77\n",
            "Edad: 60\n",
            "estado civil:  casado\n",
            "numero de hijos: 1\n",
            "Estatura en centimetros: 165\n",
            "ingrese fecha de ingreso (año/mes/dia): 2017/03/15\n",
            "ingrese salario: 1550000\n",
            "dias trabajados:  60\n",
            "¿Desea ingresar otra consulta? (si/no)  NO\n",
            "\n",
            "El numero de cedula es:  80824566\n",
            "\n",
            "Los nombres son:  andres\n",
            "\n",
            "Los Apellidos son:  peres\n",
            "\n",
            "La direccion es:  call 100 56 55\n",
            "\n",
            "El numero de telefono es:  900 455 66 77\n",
            "\n",
            "La edad es:  60\n",
            "\n",
            "El estado civil es:  casado\n",
            "\n",
            "El numero de hijos es:  1\n",
            "\n",
            "paseo cada diciembre\n",
            "\n",
            "la estatura en cm es:  165\n",
            "\n",
            "La fecha de contratacion es:  2017/03/15\n",
            "\n",
            "El Salario basico es$:  1,550,000\n",
            "\n",
            "el valor del bono es $77,500\n",
            "\n",
            "el valor de la comision es $ 77,500\n",
            "\n",
            "El valor del bono de alimentación es: $0\n",
            "\n",
            "el valor total a recibir es $1,705,000\n",
            "\n",
            "Los días trabajados son:  60\n"
          ]
        }
      ]
    }
  ]
}