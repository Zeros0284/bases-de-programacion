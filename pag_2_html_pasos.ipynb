{
  "nbformat": 4,
  "nbformat_minor": 0,
  "metadata": {
    "colab": {
      "provenance": [],
      "authorship_tag": "ABX9TyOHcVPV7GkhyUgqTFJ9CEtv",
      "include_colab_link": true
    },
    "kernelspec": {
      "name": "python3",
      "display_name": "Python 3"
    },
    "language_info": {
      "name": "python"
    }
  },
  "cells": [
    {
      "cell_type": "markdown",
      "metadata": {
        "id": "view-in-github",
        "colab_type": "text"
      },
      "source": [
        "<a href=\"https://colab.research.google.com/github/Zeros0284/bases-de-programacion/blob/main/pag_2_html_pasos.ipynb\" target=\"_parent\"><img src=\"https://colab.research.google.com/assets/colab-badge.svg\" alt=\"Open In Colab\"/></a>"
      ]
    },
    {
      "cell_type": "code",
      "execution_count": null,
      "metadata": {
        "id": "8VWm_EA2kKhV"
      },
      "outputs": [],
      "source": [
        "<!DOCTYPE html>\n",
        "<html>\n",
        "<head>\n",
        "\t<title>Pasos</title>\n",
        "\t<style>\n",
        "\t\tbody {\n",
        "\t\t\tbackground-color: #1A1A2E;\n",
        "\t\t\tcolor: #FFFFFF;\n",
        "\t\t\tfont-family: Arial, sans-serif;\n",
        "\t\t\tfont-size: 18px;\n",
        "\t\t\ttext-align: center;\n",
        "\t\t}\n",
        "\t\th1 {\n",
        "\t\t\tfont-size: 36px;\n",
        "\t\t\tmargin-top: 50px;\n",
        "\t\t}\n",
        "\t\tp {\n",
        "\t\t\tfont-size: 20px;\n",
        "\t\t\tline-height: 1.5;\n",
        "\t\t\tmargin: 30px auto;\n",
        "\t\t\tmax-width: 600px;\n",
        "\t\t\ttext-align: justify;\n",
        "\t\t}\n",
        "\t</style>\n",
        "</head>\n",
        "<body>\n",
        "    \n",
        "\t<h1>Pasos</h1>\n",
        "\n",
        "    <img src=\"dragon.jpg\" alt=\"\"width=\"300\" height=\"150\">\n",
        "\t<p>\n",
        "\t\t1. Abre un editor de texto como Visual Studio Code o Sublime Text.<br>\n",
        "\t\t2. Crea un nuevo archivo y guárdalo con la extensión .html.<br>\n",
        "\t\t3. Escribe el código HTML básico:<br>\n",
        "\t\t&lt;!DOCTYPE html&gt;<br>\n",
        "\t\t&lt;html&gt;<br>\n",
        "\t\t&lt;head&gt;<br>\n",
        "\t\t&lt;title&gt;Título de la página&lt;/title&gt;<br>\n",
        "\t\t&lt;/head&gt;<br>\n",
        "\t\t&lt;body&gt;<br>\n",
        "\t\t&lt;h1&gt;Título principal&lt;/h1&gt;<br>\n",
        "\t\t&lt;p&gt;Contenido de la página&lt;/p&gt;<br>\n",
        "\t\t&lt;/body&gt;<br>\n",
        "\t\t&lt;/html&gt;<br>\n",
        "\t\t4. Agrega elementos HTML como encabezados, párrafos, listas, imágenes y enlaces.<br>\n",
        "\t\t5. Usa etiquetas de estilo CSS para darle formato a los elementos HTML.<br>\n",
        "\t\t6. Guarda los cambios y abre el archivo en un navegador web para ver el resultado.<br>\n",
        "\t\t7. Continúa editando el archivo HTML y aplicando estilos CSS hasta que estés satisfecho con el resultado.<br>\n",
        "\t\t8. Valida el código HTML con una herramienta en línea para asegurarte de que sea válido y esté bien estructurado.<br>\n",
        "\t\t9. Publica la página en línea mediante un servicio de alojamiento web o en tu propio servidor.<br>\n",
        "\t\t10. Comparte la URL de tu página con tus amigos y colegas.<br>\n",
        "\n",
        "       \n",
        "\t</p>\n",
        "</body>\n",
        "</html>\n",
        "\n",
        "    \n",
        "</body>\n",
        "<a href=\"index.html\">Pagina html cet</a>\n",
        "<br>\n",
        "    <a href=\"ventajas.html\">ventajas de utilizar HTML</a>\n",
        "</html>"
      ]
    }
  ]
}