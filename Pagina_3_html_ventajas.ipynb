{
  "nbformat": 4,
  "nbformat_minor": 0,
  "metadata": {
    "colab": {
      "provenance": [],
      "authorship_tag": "ABX9TyPdVlCV+yQclcsFiJ3y37t8",
      "include_colab_link": true
    },
    "kernelspec": {
      "name": "python3",
      "display_name": "Python 3"
    },
    "language_info": {
      "name": "python"
    }
  },
  "cells": [
    {
      "cell_type": "markdown",
      "metadata": {
        "id": "view-in-github",
        "colab_type": "text"
      },
      "source": [
        "<a href=\"https://colab.research.google.com/github/Zeros0284/bases-de-programacion/blob/main/Pagina_3_html_ventajas.ipynb\" target=\"_parent\"><img src=\"https://colab.research.google.com/assets/colab-badge.svg\" alt=\"Open In Colab\"/></a>"
      ]
    },
    {
      "cell_type": "code",
      "execution_count": null,
      "metadata": {
        "id": "a2jpDnQVka_8"
      },
      "outputs": [],
      "source": [
        "<!DOCTYPE html>\n",
        "<html>\n",
        "<head>\n",
        "\t<title>Ventajas de utilizar HTML</title>\n",
        "\t<style>\n",
        "\t\tbody {\n",
        "\t\t\tbackground-color: #1A1A2E;\n",
        "\t\t\tcolor: #FFFFFF;\n",
        "\t\t\tfont-family: Arial, sans-serif;\n",
        "\t\t\tfont-size: 18px;\n",
        "\t\t\ttext-align: center;\n",
        "\t\t}\n",
        "\t\th1 {\n",
        "\t\t\tfont-size: 36px;\n",
        "\t\t\tmargin-top: 50px;\n",
        "\t\t\tcolor: #FF0000;\n",
        "\t\t}\n",
        "\t\tp {\n",
        "\t\t\tfont-size: 20px;\n",
        "\t\t\tline-height: 1.5;\n",
        "\t\t\tmargin: 30px auto;\n",
        "\t\t\tmax-width: 600px;\n",
        "\t\t\ttext-align: justify;\n",
        "\t\t}\n",
        "\t</style>\n",
        "</head>\n",
        "<body>\n",
        "\t<h1>Ventajas de utilizar HTML</h1>\n",
        "\t<img src=\"dragon.jpg\" alt=\"\"width=\"250\" height=\"200\">\n",
        "\t<p>\n",
        "\t\t1. Es el lenguaje de marcado estándar para crear páginas web.<br>\n",
        "\t\t2. Es fácil de aprender y usar, ya que utiliza una sintaxis sencilla.<br>\n",
        "\t\t3. Es compatible con todos los navegadores web y plataformas.<br>\n",
        "\t\t4. Permite la creación de páginas web accesibles para personas con discapacidades visuales y auditivas.<br>\n",
        "\t\t5. Permite la creación de páginas web multilingües y con soporte para diferentes caracteres y sistemas de escritura.<br>\n",
        "\t\t6. Permite la separación de la estructura de la página web del diseño y la presentación, lo que facilita el mantenimiento y la actualización de la página.<br>\n",
        "\t\t7. Permite la creación de páginas web responsivas que se adaptan a diferentes tamaños de pantalla y dispositivos.<br>\n",
        "\t\t8. Permite la integración con otros lenguajes de programación y tecnologías web, como CSS, JavaScript y PHP.<br>\n",
        "\t\t9. Es una tecnología abierta y gratuita, lo que permite su uso y distribución sin restricciones.<br>\n",
        "\t\t10. Es ampliamente utilizado en todo el mundo y cuenta con una gran cantidad de recursos, herramientas y comunidades de apoyo.<br>\n",
        "\t</p>\n",
        "\n",
        "</body>\n",
        "<br>\n",
        "<a href=\"index.html\">Pagina html cet</a>\n",
        "<br>\n",
        "<a href=\"pasos.html\">paso a paso HTML</a>\n",
        "</body>\n",
        "</html>"
      ]
    }
  ]
}