{
  "nbformat": 4,
  "nbformat_minor": 0,
  "metadata": {
    "colab": {
      "provenance": [],
      "authorship_tag": "ABX9TyOx9AkdaMvHC/onytS8n+QC",
      "include_colab_link": true
    },
    "kernelspec": {
      "name": "python3",
      "display_name": "Python 3"
    },
    "language_info": {
      "name": "python"
    }
  },
  "cells": [
    {
      "cell_type": "markdown",
      "metadata": {
        "id": "view-in-github",
        "colab_type": "text"
      },
      "source": [
        "<a href=\"https://colab.research.google.com/github/Zeros0284/bases-de-programacion/blob/main/pag_1_html.ipynb\" target=\"_parent\"><img src=\"https://colab.research.google.com/assets/colab-badge.svg\" alt=\"Open In Colab\"/></a>"
      ]
    },
    {
      "cell_type": "code",
      "execution_count": null,
      "metadata": {
        "id": "9_fFTeqyj51r"
      },
      "outputs": [],
      "source": [
        "<!DOCTYPE html>\n",
        "<html lang=\"en\">\n",
        "<head>\n",
        "    <meta charset=\"UTF-8\">\n",
        "    <meta http-equiv=\"X-UA-Compatible\" content=\"IE=edge\">\n",
        "    <meta name=\"viewport\" content=\"width=device-width, initial-scale=1.0\">\n",
        "    <title>Pagina html cet</title>\n",
        "</head>\n",
        "<style>\n",
        "    html{background-color: rgb(198, 226, 219);}\n",
        "\n",
        "    h1{background-color: rgb(135, 148, 129);\n",
        "       color: aliceblue;\n",
        "       font-family: Arial;\n",
        "       text-align: center;}\n",
        "    \n",
        "</style>\n",
        "<body>\n",
        "    <h1>APRENDIENDO HTML</h1>\n",
        "\n",
        "    <h1>HTML DESDE CERO</h1>\n",
        "\n",
        "    <p>La creación de una página web básica en HTML comienza con la creación de un documento HTML en blanco. A partir de ahí, se puede comenzar a agregar contenido utilizando las etiquetas HTML apropiadas. Es importante recordar que las etiquetas deben estar correctamente anidadas para que la página funcione correctamente. Una vez que se ha creado el contenido básico de la página, se puede comenzar a agregar estilos CSS para darle a la página un aspecto más atractivo. Los estilos CSS se utilizan para definir el diseño y la apariencia de los elementos HTML, como los colores, fuentes, tamaños de letra, etc. En resumen, la programación básica en HTML es la base de la creación de páginas web. Aprender HTML es esencial para cualquiera que quiera diseñar y crear su propia página web. Con algunas etiquetas básicas y un poco de CSS, se puede crear una página web atractiva y funcional en muy poco tiempo.</p>\n",
        "    \n",
        "    <img src=\"dragon.jpg\" alt=\"\"width=\"500\" height=\"315\">\n",
        "\n",
        "    <iframe width=\"500\" height=\"315\" src=\"https://www.youtube.com/embed/cqMfPS8jPys\" title=\"YouTube video player\" frameborder=\"0\" allow=\"accelerometer; autoplay; clipboard-write; encrypted-media; gyroscope; picture-in-picture; web-share\" allowfullscreen></iframe>\n",
        "\n",
        "    <br>\n",
        "    <a href=\"pasos.html\">paso a paso HTML</a>\n",
        "    <br>\n",
        "    <a href=\"ventajas.html\">ventajas de utilizar HTML</a>\n",
        "\n",
        "\n",
        "\n",
        "\n",
        "</body>\n",
        "</html>"
      ]
    }
  ]
}